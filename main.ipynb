{
 "cells": [
  {
   "cell_type": "markdown",
   "id": "e5995b75-2f79-4ce6-88a4-68f0396b592f",
   "metadata": {},
   "source": [
    "# Projeto de TI\n",
    "\n",
    "Docente: Paulo Renato Alves Firmino \n",
    "\n",
    "Discente: Cauã Gomes Xavier \n",
    "\n",
    "Disciplina: Estatística Computacional \n",
    "\n",
    "Curso: Matemática Computacional"
   ]
  },
  {
   "cell_type": "code",
   "execution_count": 2,
   "id": "0f2cd275-267e-44ea-b8d9-04ded256dcb3",
   "metadata": {},
   "outputs": [
    {
     "data": {
      "text/plain": [
       "8"
      ]
     },
     "execution_count": 2,
     "metadata": {},
     "output_type": "execute_result"
    }
   ],
   "source": [
    "3+5"
   ]
  },
  {
   "cell_type": "code",
   "execution_count": null,
   "id": "8bd66699-31ea-48fb-a807-434531e42cf7",
   "metadata": {},
   "outputs": [],
   "source": []
  }
 ],
 "metadata": {
  "kernelspec": {
   "display_name": "base",
   "language": "python",
   "name": "python3"
  },
  "language_info": {
   "codemirror_mode": {
    "name": "ipython",
    "version": 3
   },
   "file_extension": ".py",
   "mimetype": "text/x-python",
   "name": "python",
   "nbconvert_exporter": "python",
   "pygments_lexer": "ipython3",
   "version": "3.12.7"
  }
 },
 "nbformat": 4,
 "nbformat_minor": 5
}
