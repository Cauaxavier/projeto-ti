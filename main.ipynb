{
 "cells": [
  {
   "cell_type": "markdown",
   "id": "e5995b75-2f79-4ce6-88a4-68f0396b592f",
   "metadata": {},
   "source": [
    "# Projeto de Estatística Computacional\n",
    "\n",
    "Docente: Paulo Renato Alves Firmino <br>\n",
    "Discente: Cauã Gomes Xavier <br>\n",
    "Disciplina: Estatística Computacional <br>\n",
    "Curso: Matemática Computacional <br>"
   ]
  },
  {
   "cell_type": "markdown",
   "id": "7c921043-4fd4-4bcc-9868-258e454c07f3",
   "metadata": {},
   "source": [
    "# 1. Introdução"
   ]
  },
  {
   "cell_type": "markdown",
   "id": "0823386d-abc6-42db-b041-e69be671f921",
   "metadata": {},
   "source": [
    "Este projeto tem como objetivo analisar um conjunto de dados sobre imóveis e desenvolver um modelo de aprendizado de máquina para prever o preço de venda de uma casa com base em suas características. As informações foram obtidas a partir de uma competição do Kaggle, uma plataforma de desafios e competições em ciência de dados. (https://www.kaggle.com/competitions/house-prices-advanced-regression-techniques/data). <br>\n",
    "O mercado imobiliário é influenciado por diversos fatores além do número de quartos ou da presença de cozinhas. Elementos como a qualidade do material de construção, a localização e até detalhes estruturais menos óbvios podem impactar significativamente o valor final de uma propriedade. Portanto, compreender esses fatores e como eles afetam o preço das casas é essencial para compradores, vendedores e investidores tomarem decisões mais informadas. <br>\n",
    "O desafio central deste projeto é prever o preço de uma casa com base em diversas variáveis, como o tamanho do terreno, a qualidade dos materiais, a condição geral da propriedade, o ano de construção, a presença de um porão e outras características estruturais."
   ]
  },
  {
   "cell_type": "markdown",
   "id": "df2d0ff2-450c-4b01-8ad9-943714d023a9",
   "metadata": {},
   "source": [
    "# 2. Importações e funções"
   ]
  },
  {
   "cell_type": "code",
   "execution_count": null,
   "id": "26e9f363-942e-47cc-b0c4-2e16f3dc6f07",
   "metadata": {},
   "outputs": [],
   "source": [
    "import pandas as pd\n",
    "import seaborn as sn\n",
    "import numpy as np\n",
    "import seaborn as sn\n",
    "import matplotlib.pyplot as plt\n",
    "import math\n",
    "import networkx as nx\n",
    "from pgmpy.models import BayesianNetwork\n",
    "from pgmpy.estimators import MaximumLikelihoodEstimator\n",
    "from IPython.display import display\n",
    "from sklearn.impute import SimpleImputer\n",
    "from sklearn.pipeline import Pipeline \n",
    "from sklearn.compose import ColumnTransformer\n",
    "from sklearn.preprocessing import StandardScaler, OneHotEncoder\n",
    "from sklearn.model_selection import train_test_split\n",
    "from sklearn.ensemble import RandomForestRegressor\n",
    "from sklearn.svm import SVR\n",
    "from sklearn.neural_network import MLPRegressor\n",
    "from sklearn.model_selection import GridSearchCV\n",
    "from sklearn.metrics import mean_absolute_error, mean_squared_error, r2_score\n",
    "from xgboost import XGBRegressor\n",
    "import warnings"
   ]
  },
  {
   "cell_type": "code",
   "execution_count": null,
   "id": "015b7581-e224-48ff-a2fd-ce1280f201b4",
   "metadata": {},
   "outputs": [],
   "source": [
    "warnings.filterwarnings(\"ignore\")\n",
    "\n",
    "def histograma(dataFrame, nomeVariavel, qntdCategorias):\n",
    "    \n",
    "    distribuicaoDeFrequencia(dataFrame, nomeVariavel, qntdCategorias)\n",
    "    fig, axs = plt.subplots(1, 2, figsize=(12, 4))\n",
    "    dataFrame[nomeVariavel].plot(kind='box', ax=axs[0], title='')\n",
    "    sn.histplot(dataFrame[nomeVariavel], color='green', bins=qntdCategorias, ax=axs[1])\n",
    "    axs[1].set_ylabel(nomeVariavel)\n",
    "    plt.tight_layout()\n",
    "    plt.show()\n",
    "\n",
    "def distribuicaoDeFrequencia(dataFrame, nomeVariavel, qntdCategorias):\n",
    "    \n",
    "    coluna = dataFrame[nomeVariavel]\n",
    "    frequencia = coluna.value_counts(bins=qntdCategorias, \n",
    "                            sort=False)\n",
    "    display(pd.DataFrame(frequencia))\n",
    "\n",
    "def graficoQualitativo(dataframe, var, ax=None):\n",
    "    \n",
    "     dados_qualitativa = dataframe[var].value_counts(normalize = True).reset_index(name='Frequência').rename(columns={'index':var})\n",
    "     display(dados_qualitativa)\n",
    "     \n",
    "     if ax is None:\n",
    "          fig, ax = plt.subplots(figsize=(12, 4))\n",
    "     dados_grafico = dataframe[var].value_counts()\n",
    "     dados_grafico.plot(kind='bar', ax=ax)\n",
    "     \n",
    "     plt.xlabel('Valores')\n",
    "     plt.ylabel('Counts')\n",
    "     plt.title(f'Gráfico da Frequência: {var}')\n",
    "\n",
    "def graficoDiscreto(dataframe, coluna, titulo=\"Distribuição Discreta\", xlabel=\"frequências\", ylabel=\"Frequência relativa\"):\n",
    "   \n",
    "    valores, frequencias = np.unique(dataframe[coluna].dropna(), return_counts=True) \n",
    "    probabilidades = frequencias / sum(frequencias)  \n",
    "    \n",
    "    plt.figure(figsize=(8, 6))\n",
    "    plt.vlines(valores, 0, probabilidades, colors='blue', lw=2)  \n",
    "    plt.scatter(valores, probabilidades, color='red', s=30)  \n",
    "    \n",
    "    plt.xlabel(xlabel)\n",
    "    plt.ylabel(ylabel)\n",
    "    plt.title(f\"{titulo}: {coluna}\")\n",
    "    plt.xticks(valores)  \n",
    "    plt.grid(axis=\"y\", linestyle=\"--\", alpha=0.7)  \n",
    "\n",
    "    plt.show()\n",
    "\n",
    "def graficoQualitativoOrdinal(dataframe, coluna, xlabel=\"frequências\", ylabel=\"Frequência relativa\"):\n",
    "    \n",
    "    mapeamento = {\n",
    "        \"Ex\": \"Excellent\",\n",
    "        \"Gd\": \"Good\",\n",
    "        \"TA\": \"Average\",\n",
    "        \"Fa\": \"Fair\",\n",
    "        \"Po\": \"Poor\"\n",
    "    }\n",
    "    \n",
    "    ordem_categorias = [\"Excellent\", \"Good\", \"Average\", \"Fair\", \"Poor\"]\n",
    "    \n",
    "    dataframe[coluna] = dataframe[coluna].replace(mapeamento)\n",
    "    \n",
    "    dataframe[coluna] = pd.Categorical(dataframe[coluna], categories=ordem_categorias, ordered=True)\n",
    "    \n",
    "    dfDegrad = dataframe[coluna].value_counts(normalize=True).sort_index()\n",
    "    \n",
    "    qualiPlot = dfDegrad.plot(kind='bar', figsize=(12, 4), title='', fontsize=10)\n",
    "    qualiPlot.set_xlabel(xlabel)\n",
    "    qualiPlot.set_ylabel(ylabel)\n",
    "\n",
    "    plt.show()\n",
    "\n",
    "def graficoBivariado(dataframe, colunaQualitativa, colunaQuantitativa, numBins=5):\n",
    "\n",
    "    valorMin = dataframe[colunaQuantitativa].min()\n",
    "    valorMax = dataframe[colunaQuantitativa].max()\n",
    "    binEdges = np.linspace(valorMin, valorMax, numBins + 1).astype(int) \n",
    "\n",
    "    dataframe['Prices'] = pd.cut(dataframe[colunaQuantitativa], bins=binEdges, include_lowest=True, right=False)\n",
    "\n",
    "    tabelaContingencia = pd.crosstab(index=dataframe[colunaQualitativa], \n",
    "                                      columns=dataframe['Prices'], \n",
    "                                      normalize=\"index\")\n",
    "\n",
    "    tituloTabela = f\"Distribuição de {colunaQuantitativa} (Agrupado) por {colunaQualitativa}\"\n",
    "    print(\"\\n\" + \"-\" * 50)\n",
    "    print(f\"{tituloTabela}\")\n",
    "    print(\"-\" * 50)\n",
    "    display(tabelaContingencia)\n",
    "\n",
    "    plt.figure(figsize=(8,5))\n",
    "    tabelaContingencia.plot(kind=\"bar\", stacked=False, colormap=\"tab10\", figsize=(8,5))\n",
    "    \n",
    "    tituloGrafico = f\"{colunaQuantitativa} (Agrupado) por {colunaQualitativa}\"\n",
    "    plt.title(tituloGrafico, fontsize=14)\n",
    "    plt.xlabel(colunaQualitativa, fontsize=12)\n",
    "    plt.ylabel(\"Proporção\", fontsize=12)\n",
    "    plt.xticks(rotation=0)\n",
    "    plt.legend(title=f\"{colunaQuantitativa} (Agrupado)\")\n",
    "    plt.grid(axis=\"y\", linestyle=\"--\", alpha=0.7)\n",
    "    \n",
    "    plt.show()\n",
    "\n",
    "    dataframe.drop(columns=['Prices'], inplace=True)\n",
    "\n",
    "\n",
    "def medidasDispersaoPosicao(dataframe, coluna):\n",
    "\n",
    "    media = dataframe[coluna].mean()\n",
    "    moda = dataframe[coluna].mode().values\n",
    "    mediana = dataframe[coluna].median()\n",
    "    desvio_padrao = dataframe[coluna].std()\n",
    "    variancia = dataframe[coluna].var()\n",
    "\n",
    "    estatisticas_df = pd.DataFrame({\n",
    "        \"Métrica\": [\"Média\", \"Moda\", \"Mediana\", \"Desvio Padrão\", \"Variância\"],\n",
    "        \"Valor\": [media, moda, mediana, desvio_padrao, variancia]\n",
    "    })\n",
    "\n",
    "    from IPython.display import display\n",
    "    display(estatisticas_df)\n",
    "\n",
    "def transformarEmQualitativo(coluna):\n",
    "    \n",
    "    mapeamento = {\n",
    "        10: \"Very Excellent\",\n",
    "        9: \"Excellent\",\n",
    "        8: \"Very Good\",\n",
    "        7: \"Good\",\n",
    "        6: \"Above Average\",\n",
    "        5: \"Average\",\n",
    "        4: \"Below Average\",\n",
    "        3: \"Fair\",\n",
    "        2: \"Poor\",\n",
    "        1: \"Very Poor\"\n",
    "    }\n",
    "    return coluna.map(mapeamento).fillna(\"Desconhecido\") \n",
    "\n",
    "def transformarAnoEmCategoria(dataframe, coluna):\n",
    "   \n",
    "    def categorizarAno(ano):\n",
    "        if ano < 1900:\n",
    "            return \"Muito antiga\"\n",
    "        elif 1900 <= ano < 1950:\n",
    "            return \"Antiga\"\n",
    "        elif 1950 <= ano < 2000:\n",
    "            return \"Média idade\"\n",
    "        else:\n",
    "            return \"Nova\"\n",
    "    \n",
    "    dataframe[coluna + 'Categoria'] = dataframe[coluna].apply(categorizarAno)\n",
    "\n",
    "def transformarPrecoEmCategoria(dataframe, coluna):\n",
    "   \n",
    "    def categorizarPreco(preco):\n",
    "        if preco < 214925:\n",
    "            return \"Baixo\"\n",
    "        elif 214925 <= preco < 394950:\n",
    "            return \"Médio baixo\"\n",
    "        elif 394950 <= preco < 574975:\n",
    "            return \"Médio alto\"\n",
    "        else:\n",
    "            return \"Alto\"\n",
    "    \n",
    "    dataframe[coluna + 'Categoria'] = dataframe[coluna].apply(categorizarPreco)\n",
    "    \n",
    "def avaliarModelo(model_name, y_true, y_pred):\n",
    "    from sklearn.metrics import mean_squared_error, mean_absolute_error, r2_score\n",
    "    import numpy as np\n",
    "\n",
    "    mae = mean_absolute_error(y_true, y_pred)\n",
    "    rmse = np.sqrt(mean_squared_error(y_true, y_pred))\n",
    "    r2 = r2_score(y_true, y_pred)\n",
    "    mape = np.mean(np.abs((y_true - y_pred) / y_true)) * 100\n",
    "   \n",
    "    print(f\"{model_name:<15} RMSE =     {rmse:.15f}\")\n",
    "    print(f\"{model_name:<15} MAE =      {mae:.15f}\")\n",
    "    print(f\"{model_name:<15} MAPE =     {mape:.2f}%\")\n",
    "    print(f\"{model_name:<15} R^2 =      {r2:.15f}\")"
   ]
  },
  {
   "cell_type": "markdown",
   "id": "e84e9bcb-e9eb-4de2-8d3a-216818b06c7d",
   "metadata": {},
   "source": [
    "# 3. Pré-processamento"
   ]
  },
  {
   "cell_type": "markdown",
   "id": "2dc0dccf-efa7-4fc2-b9c7-6e9d69f8b28f",
   "metadata": {},
   "source": [
    "O pré-processamento transforma dados brutos em um formato padronizado e relevante, facilitando a realização das análises, além de melhorar a qualidade dos resultados obtidos."
   ]
  },
  {
   "cell_type": "markdown",
   "id": "912f7b6d-6f7c-473f-8702-76c1d8393eeb",
   "metadata": {},
   "source": [
    "## 3.1. Análise descritiva dos dados"
   ]
  },
  {
   "cell_type": "markdown",
   "id": "5529c610-39c2-4c77-b8cb-051efcfaf3f6",
   "metadata": {},
   "source": [
    "- Ao analisar as colunas abaixo, observa-se que algumas colunas apresentam um grande número de valores indefinidos (N/A). Por esse motivo, é importante removê-las da tabela, a fim de evitar interferências na extração de informações úteis dos dados. Essa abordagem contribui para uma análise mais precisa e confiável."
   ]
  },
  {
   "cell_type": "code",
   "execution_count": null,
   "id": "03a377fb-adb7-4d4b-b42c-5ffb929a9a3e",
   "metadata": {
    "scrolled": true
   },
   "outputs": [],
   "source": [
    "dadosTreino = pd.read_csv(filepath_or_buffer = \"database/train.csv\", \n",
    "                    sep=\",\")\n",
    "\n",
    "dadosTreino.info()"
   ]
  },
  {
   "cell_type": "markdown",
   "id": "78cf2126-612a-482c-860d-d8a32189fe43",
   "metadata": {},
   "source": [
    "- Conferindo as colunas que têm mais da metade dos valores como indefinidos (N/A) e tirando elas da tabela."
   ]
  },
  {
   "cell_type": "code",
   "execution_count": null,
   "id": "607b3713-523d-4382-88a9-93be852a4385",
   "metadata": {
    "scrolled": true
   },
   "outputs": [],
   "source": [
    "colunasNa = ['Alley', 'PoolQC', 'Fence', 'MiscFeature', 'MasVnrType']\n",
    "\n",
    "totalLinhasDataFrame = len(dadosTreino)\n",
    "print(f\"Total de linhas no DataFrame: {totalLinhasDataFrame}\")\n",
    "\n",
    "for colunaNa in colunasNa:\n",
    "    quantidadeNa = dadosTreino[colunaNa].isna().sum()\n",
    "    print(f\"Total de valores N/A na coluna '{colunaNa}': {quantidadeNa}\")\n",
    "    dadosTreino.drop(columns=[colunaNa],inplace=True)"
   ]
  },
  {
   "cell_type": "markdown",
   "id": "efcbddb3-1f00-4eeb-b437-18d6643f626b",
   "metadata": {},
   "source": [
    "- A tabela abaixo representa o conjunto de dados. Observa-se os dados abrangem diversas informações sobre cada imóvel, incluindo planicidade do local onde a propriedade foi construida e área da varanda(em pés quadrados). Com base nessas informações, é possível obter uma visão mais ampla e detalhada dos dados, o que será explorado nas próximas etapas."
   ]
  },
  {
   "cell_type": "code",
   "execution_count": null,
   "id": "26f5f4d7-7f4d-433c-befb-8cf541de3c56",
   "metadata": {
    "scrolled": true
   },
   "outputs": [],
   "source": [
    "dadosTreino.drop(columns=[\"Id\"],inplace=True)\n",
    "\n",
    "dadosTreino.head(5)\n"
   ]
  },
  {
   "cell_type": "markdown",
   "id": "75bcefe9-3555-4cb9-a470-eea20189bcb4",
   "metadata": {},
   "source": [
    "As principais **variáveis quantitativas** de interesse e como estas se relacionam com nossa variável depedente (\"SalePrice\"):<br>\n",
    "- **YearBuilt**: Ano original da contrução. \n",
    "- **YearRemodAdd**: Ano da última remodelação. \n",
    "- **LotArea**:  Área do lote(em pés quadrados).\n",
    "- **GarageArea**: Área da garagem(em pés quadrados). \n",
    "- **PoolArea**: Área da piscina(em pés quadrados).\n",
    "- **Fireplaces**: Quantidade de lareiras.\n",
    "- **OverallQual**: Qualidade geral do material e do acabamento(varia de 1 a 10).\n",
    "- **TotalBsmtSF**: Área do porão(em pés quadrados).\n",
    "- **FullBath**: Quantidade de banheiros completos.\n",
    "      "
   ]
  },
  {
   "cell_type": "markdown",
   "id": "cf064e29-2ccb-4ac8-90c5-d6f2e2d0a4e7",
   "metadata": {},
   "source": [
    "é possível entender melhor a relação entre as variáveis citadas acima e a variável dependente. Para isso, utiliza-se o __Coeficiente de Correlação de Pearson__. Para isso, é necessário criar uma cópia dos dados retirando as variáveis qualitativas. <br>\n",
    "A correlação de Pearson é um método estatístico que avalia a relação entre duas variáveis quantitativas. Seu valor está compreendido no intervalo de -1 a +1. <br>\n",
    "Um valor igual a 0 indica ausência de associação linear entre as variáveis. Um valor maior que 0 revela que, à medida que uma variável aumenta, a outra também tende a aumentar, caracterizando uma correlação positiva. Por outro lado, um valor menor que 0 demonstra uma correlação negativa entre as variáveis, indicando que, à medida que uma variável cresce, a outra tende a diminuir. \n",
    "Apartir disso é possivel fazer a seguinte análise:\n",
    "\n",
    "- A qualidade geral do material e do acabamento é o fator mais importante para definir o preço do imóvel.\n",
    "- A área da garagem é um fator mais relevante do que o ano em que imóvel foi construido.\n"
   ]
  },
  {
   "cell_type": "code",
   "execution_count": null,
   "id": "28499683-597e-459b-b8e3-a659417ca9d3",
   "metadata": {
    "scrolled": true
   },
   "outputs": [],
   "source": [
    "pd.set_option('display.max_rows',20)\n",
    "\n",
    "dadosTemporário = dadosTreino.select_dtypes(include=['int64', 'float64'])\n",
    "\n",
    "correlacaoMatriz = dadosTemporário.corr()\n",
    "correlacaoMatriz[\"SalePrice\"].sort_values(ascending=False).head(10)"
   ]
  },
  {
   "cell_type": "markdown",
   "id": "d82cd51d-0dd8-4916-94f9-9ba6e972fed8",
   "metadata": {},
   "source": [
    "As principais **variáveis quantitativas** de interesse e como estas se relacionam com nossa variável depedente (\"SalePrice\"): <br>\n",
    "\n",
    "- **Street**: Se a rua possui asfalto\n",
    "- **HouseStyle**: Estilo da casa e a quantidade de andares\n",
    "- **RoofStyle**: Tipo de telhado\n",
    "- **ExterQual**: Qualidade do material no exterior do imóvel\n",
    "- **ExterCond**: Condição atual do material no exterior do imóvel\n",
    "- **Foudation**: Material usado na construção do imóvel\n",
    "- **BsmtCond**: Condição atual do porão\n",
    "- **Electrical**: Sistema elétrico\n",
    "\n"
   ]
  },
  {
   "cell_type": "markdown",
   "id": "959e2314-9beb-4f1a-96a1-ef12c1e857b9",
   "metadata": {},
   "source": [
    "### Variáveis Quantitativas"
   ]
  },
  {
   "cell_type": "markdown",
   "id": "0debadd0-3761-46de-a8cd-3347e83a6474",
   "metadata": {},
   "source": [
    "- Para criar a distribuição de frequências de uma coluna com variáveis quantitativas contínuas, é necessário definir alguns parâmetros: "
   ]
  },
  {
   "cell_type": "code",
   "execution_count": null,
   "id": "a95cdaf1-14d2-4520-b1e8-deeb0a169b81",
   "metadata": {},
   "outputs": [],
   "source": [
    "numeroElementos = dadosTreino['LotFrontage'].notna().sum()\n",
    "\n",
    "print(f\"Quantidade de observações: {numeroElementos}\")\n",
    "\n",
    "LotFrontageMaximo = dadosTreino['LotFrontage'].max()\n",
    "print(f\"Valor máximo da coluna 'LotFrontage': {LotFrontageMaximo}\")\n",
    "\n",
    "LotFrontageMinimo = dadosTreino['LotFrontage'].min()\n",
    "print(f\"Valor mínimo da coluna 'LotFrontage': {LotFrontageMinimo}\")\n",
    "  \n",
    "raizQuadrada = math.sqrt(numeroElementos)  \n",
    "numeroCategorias = round(raizQuadrada)\n",
    "\n",
    "print(f\"Quantidade de categorias: {numeroCategorias}\")\n",
    "\n",
    "tamanhoIntervalo = (LotFrontageMaximo - LotFrontageMinimo) / numeroCategorias\n",
    "\n",
    "print(f\"Tamanho do intervalo: {tamanhoIntervalo}\")"
   ]
  },
  {
   "cell_type": "markdown",
   "id": "7e27215b-3ae6-416f-9850-5e40b06fca37",
   "metadata": {},
   "source": [
    "- No gráfico univariado e na distribuição de metros lineares da rua conectada a casa há uma grande concentração entre $54 \\, ft$ (ou $5 \\, m$)   e $62 \\, ft$ (ou $5.6 \\, m$), porém a maior concentração encontra-se entre $63 \\, ft$ (ou $5.8 \\, m$) e $71 \\, ft$ (ou $6.6 \\, m$).\n",
    "\n",
    "- O gráfico em boxplot indica que as medições abaixo de $25 \\, ft$ (ou $2.3 \\, m$) e acima de $122 \\, ft$ (ou $11.3 \\, m$) já são considerados valores atípicos.\n",
    "\n",
    "- Sendo assim, pela análise da distribuição dos gráficos e da distribuição de frequências, a maior parte dos imóveis tem entre $50 \\, ft$ (ou $4.6 \\, m$) e $100 \\, ft$ (ou $9.3 \\, m$)"
   ]
  },
  {
   "cell_type": "code",
   "execution_count": null,
   "id": "2b6d400f-1620-4805-9417-e84c4a383417",
   "metadata": {},
   "outputs": [],
   "source": [
    "pd.set_option('display.max_rows', 35) \n",
    "\n",
    "histograma(dadosTreino, \"LotFrontage\", 35)"
   ]
  },
  {
   "cell_type": "markdown",
   "id": "4490085a-15f7-49b6-b1c7-e491280c274b",
   "metadata": {},
   "source": [
    "- O gráfico abaixo revela que é incomum um imóvel ter mais de duas lareiras, sugerindo que a quantidade de lareiras pode não ser um fator determinante na definição do preço da propriedade."
   ]
  },
  {
   "cell_type": "code",
   "execution_count": null,
   "id": "76980028-ece8-4429-943a-3bfb8a391c6b",
   "metadata": {},
   "outputs": [],
   "source": [
    "graficoDiscreto(dadosTreino, \"Fireplaces\", \"Quantidade de lareiras\")"
   ]
  },
  {
   "cell_type": "markdown",
   "id": "6e00fe9b-1b48-43e2-8616-232f871404cd",
   "metadata": {},
   "source": [
    "### Medidas de dispersão e posição"
   ]
  },
  {
   "cell_type": "markdown",
   "id": "2351e66a-71d3-48fb-8763-4248f3d957cd",
   "metadata": {},
   "source": [
    "As medidas de posição permitem estimar o valor que a variável aleatória poderá assumir, enquanto as medidas de dispersão avaliam a confiabilidade dessas estimativas. As medidas analisadas neste contexto são a moda, a média, a mediana, a variância e o desvio padrão.\n",
    "\n",
    "A moda, a média e a mediana são medidas de posição e indicam:\n",
    "\n",
    "- Média: obtida pela divisão da soma de todos os valores pelo número total de observações, representando o ponto de equilíbrio da amostra.\n",
    "- Moda: o valor mais frequente na amostra.\n",
    "- Mediana: o valor central de um conjunto de dados organizados em ordem crescente.\n",
    "\n",
    "Já o desvio padrão e a variância são medidas de dispersão, indicando o grau de variação dos valores em relação à média, ou seja, se os dados estão mais concentrados ou dispersos."
   ]
  },
  {
   "cell_type": "markdown",
   "id": "97a918dd-7180-44ec-b49b-c4d8e9312ff0",
   "metadata": {},
   "source": [
    "- A mediana abaixo indica que, pelo menos a metade dos imóveis, possui uma ou nenhuma lareira. Logo, a quantidade de lareiras não deve ser muito significante para o preço da casa."
   ]
  },
  {
   "cell_type": "code",
   "execution_count": null,
   "id": "58b864ca-ce2f-4607-9327-75b4a1ee628e",
   "metadata": {},
   "outputs": [],
   "source": [
    "medidasDispersaoPosicao(dadosTreino, \"Fireplaces\")"
   ]
  },
  {
   "cell_type": "markdown",
   "id": "f065c0b7-a45a-4549-80e5-896612356a15",
   "metadata": {},
   "source": [
    "- Como há uma grande variância na área dos lotes, os valores estão distantes da média, indicando uma ampla diversidade nos dados."
   ]
  },
  {
   "cell_type": "code",
   "execution_count": null,
   "id": "70e48e6d-d5e2-4574-80dc-f94b27932ec6",
   "metadata": {},
   "outputs": [],
   "source": [
    "medidasDispersaoPosicao(dadosTreino, \"LotArea\")"
   ]
  },
  {
   "cell_type": "markdown",
   "id": "af806606-ff2b-4556-97be-ad3d657cf062",
   "metadata": {},
   "source": [
    "- Como o desvio padrão da área das garagens está próximo da metade da média, isso indica que, apesar das variações, ainda há um certo padrão nos dados."
   ]
  },
  {
   "cell_type": "code",
   "execution_count": null,
   "id": "0eb60da0-e394-4261-ba6e-84487e6b6e47",
   "metadata": {},
   "outputs": [],
   "source": [
    "medidasDispersaoPosicao(dadosTreino, \"GarageArea\")"
   ]
  },
  {
   "cell_type": "markdown",
   "id": "87ae650d-9a6f-47e6-8c7e-226bee9ea7d8",
   "metadata": {},
   "source": [
    "- A moda da qualidade geral do material e do acabamento é 5 (mediano). Portanto, como esperado, a maioria dos imóveis não está nos extremos (excelente ou pobre)."
   ]
  },
  {
   "cell_type": "code",
   "execution_count": null,
   "id": "d9c1e4d2-8087-4c4e-bbc9-4e5fc7a9df24",
   "metadata": {},
   "outputs": [],
   "source": [
    "medidasDispersaoPosicao(dadosTreino, \"OverallQual\")"
   ]
  },
  {
   "cell_type": "markdown",
   "id": "c2a967e2-2539-40f4-97d9-7d91bf49c843",
   "metadata": {},
   "source": [
    "- Existem poucos imóveis em que a quantidade de banheiros é 1, o que indica uma maior preferência por casas com mais banheiros."
   ]
  },
  {
   "cell_type": "code",
   "execution_count": null,
   "id": "28e9e1ce-57db-475e-a645-8f9e790c2968",
   "metadata": {},
   "outputs": [],
   "source": [
    "medidasDispersaoPosicao(dadosTreino, \"FullBath\")"
   ]
  },
  {
   "cell_type": "markdown",
   "id": "4104b808-452b-4a04-b788-dfdec9d258c7",
   "metadata": {},
   "source": [
    "### Variáveis Qualitativas"
   ]
  },
  {
   "cell_type": "markdown",
   "id": "a9fc0793-29c0-46dc-9c99-bb67d67a3c08",
   "metadata": {},
   "source": [
    "- Com base no gráfico dos tipos de telhado dos imóveis apresentado abaixo, é possível observar que a maioria das propriedades possui telhados do tipo gable, representando 78% do total."
   ]
  },
  {
   "cell_type": "code",
   "execution_count": null,
   "id": "fa123ca3-b2a2-4e4b-8aea-bd1bd86aabff",
   "metadata": {},
   "outputs": [],
   "source": [
    "graficoQualitativo(dadosTreino, \"RoofStyle\")"
   ]
  },
  {
   "cell_type": "markdown",
   "id": "51fe4466-fad8-42ab-a8eb-d11b525d2378",
   "metadata": {},
   "source": [
    "- A maioria dos imóveis (aproximadamente 80%) possui a qualidade do material externo classificada como \"mediana\". Além disso, há uma quantidade insignificante de imóveis com qualidade \"falha\" ou \"Pobre\"."
   ]
  },
  {
   "cell_type": "code",
   "execution_count": null,
   "id": "20391ceb-d7df-4f33-bf78-f689ceb8c56f",
   "metadata": {},
   "outputs": [],
   "source": [
    "graficoQualitativoOrdinal(dadosTreino, \"ExterQual\", \"Qualidade do material externo\")"
   ]
  },
  {
   "cell_type": "markdown",
   "id": "dd8891ca-bb33-4da2-911e-320bcb907bec",
   "metadata": {},
   "source": [
    "- Ao analisar a distribuição do preço de venda (SalePrice) por estilo de telhado (RoofStyle), é possivel observa que certos estilos apresentam uma maior concentração em faixas de preço específicas.\n",
    "- O estilo Hip é o mais diversificado, abrangendo todas as faixas de preço, embora sua maior concentração esteja na faixa mais baixa (34.900 - 178.920), com mais ou menos 58%. Já o estilo Flat tem sua distribuição mais equilibrada entre as faixas inferiores, mas não aparece nas faixas mais altas.\n",
    "- O estilo Shed é o mais restrito, aparecendo apenas na segunda faixa de preço (178.920 - 322.940), com 100% de sua presença ali. Isso sugere que casas com esse tipo de telhado podem ter um padrão de preço bem específico.\n",
    "- Então, há uma correlação entre o tipo de telhado e a faixa de preço da casa, indicando que certos estilos são mais predominantes em determinados níveis de valor."
   ]
  },
  {
   "cell_type": "code",
   "execution_count": null,
   "id": "81efeed7-6508-4c85-b26a-3dd53d335d09",
   "metadata": {},
   "outputs": [],
   "source": [
    "graficoBivariado(dadosTreino, \"RoofStyle\", \"SalePrice\")"
   ]
  },
  {
   "cell_type": "markdown",
   "id": "363dba73-9eac-4775-8a68-bd37c292b678",
   "metadata": {},
   "source": [
    "## 3.2. Transformação de Variáveis"
   ]
  },
  {
   "cell_type": "markdown",
   "id": "f88adfb0-623c-4deb-a550-728bcb1f48a5",
   "metadata": {},
   "source": [
    "- A seguir, foram selecionadas as variáveis com base na análise descritiva realizada, considerando apenas aquelas submetidas à avaliação. Essas variáveis serão utilizadas no modelo preditivo, com o objetivo de estimar a variável \"SalePrice\"."
   ]
  },
  {
   "cell_type": "code",
   "execution_count": null,
   "id": "aa80dff6-243e-4ace-8967-59eb79c14e59",
   "metadata": {
    "scrolled": true
   },
   "outputs": [],
   "source": [
    "quantVars  = [\"YearBuilt\",\n",
    "               \"YearRemodAdd\", \n",
    "               \"LotArea\", \n",
    "               \"GarageArea\",\n",
    "               \"PoolArea\",\n",
    "               \"Fireplaces\",\n",
    "               \"OverallQual\",\n",
    "               \"TotalBsmtSF\",\n",
    "               \"FullBath\",\n",
    "               \"GarageYrBlt\",\n",
    "               \"MasVnrArea\",\n",
    "               \"LotFrontage\"] \n",
    "\n",
    "qualiVars = [\"Street\",\n",
    "              \"HouseStyle\",\n",
    "              \"RoofStyle\",\n",
    "              \"ExterQual\",\n",
    "              \"ExterCond\",\n",
    "              \"Electrical\",\n",
    "              \"BsmtQual\", \n",
    "              \"BsmtCond\",\n",
    "              \"BsmtExposure\",\n",
    "              \"BsmtFinType1\",\n",
    "              \"BsmtFinType2\",\n",
    "              \"FireplaceQu\",\n",
    "              \"GarageType\"]\n",
    "\n",
    "quantiDf = dadosTreino[quantVars]\n",
    "qualiDf = dadosTreino[qualiVars]\n",
    "\n",
    "x = dadosTreino[quantVars + qualiVars]\n",
    "y = dadosTreino['SalePrice']\n",
    "\n",
    "x_train, x_test, y_train, y_test = train_test_split(x, y, test_size=0.2, random_state=42)"
   ]
  },
  {
   "cell_type": "markdown",
   "id": "71ab847a-d0b2-426b-98a8-0fe81892a21d",
   "metadata": {},
   "source": [
    "- Como as colunas possuem dados é necessário imputar. Nesse caso imputar utilizando a mediana."
   ]
  },
  {
   "cell_type": "code",
   "execution_count": null,
   "id": "f4d8bcc1-ae67-471c-97f2-a0f6e9414d37",
   "metadata": {},
   "outputs": [],
   "source": [
    "print(\"-----------------dados quantitativos antes da imputação----------------\")\n",
    "print(\"\\n\")\n",
    "display(quantiDf)\n",
    "imputer = SimpleImputer(strategy = \"median\", add_indicator = True)\n",
    "imputer.fit(quantiDf)"
   ]
  },
  {
   "cell_type": "markdown",
   "id": "dd623aa1-7a75-471f-a35f-d57177c0df3f",
   "metadata": {},
   "source": [
    "- É necessário realizar a padronização das variáveis quantitativas, isto é, colocar os valores das variáveis em uma mesma escala, para que tenham média 0 e desvio padrão de 1. Este processo é crucial, pois para muitos modelos de machine learning os dados precisam estar padronizados."
   ]
  },
  {
   "cell_type": "code",
   "execution_count": null,
   "id": "6f73739e-65a9-4723-bd2e-eda47d9718f1",
   "metadata": {},
   "outputs": [],
   "source": [
    "scaler = StandardScaler() \n",
    "scaler.fit(quantiDf)\n",
    "quantiDf = pd.DataFrame(scaler.transform(quantiDf), columns= scaler.get_feature_names_out())\n",
    "print(\"---------------Dados apos a padronização-----------------\")\n",
    "display(quantiDf.head())"
   ]
  },
  {
   "cell_type": "markdown",
   "id": "dc8abab3-fe71-44c7-9146-cb497690963e",
   "metadata": {},
   "source": [
    "## 2.4. Partição dos dados em treinamento e teste"
   ]
  },
  {
   "cell_type": "markdown",
   "id": "165bff6e-db97-425d-ab9a-30e908b2867a",
   "metadata": {},
   "source": [
    "- Nesta etapa, realiza-se uma divisão do conjunto de dados com o objetivo de aplicá-lo aos modelos que serão desenvolvidos. Essa divisão é fundamental para o ajuste adequado dos modelos, para a prevenção do overfitting. Além disso, será utilizado o sistema de pipeline, que consiste em uma cadeia de etapas que sintetiza todo o processo de preparação e padronização dos dados executado previamente."
   ]
  },
  {
   "cell_type": "code",
   "execution_count": null,
   "id": "24ae394a-e75f-4a83-bfa0-71d61b7c3351",
   "metadata": {},
   "outputs": [],
   "source": [
    "trainOk = pd.concat([quantiDf, qualiDf], axis=1)\n",
    "trainOk.head()"
   ]
  },
  {
   "cell_type": "code",
   "execution_count": null,
   "id": "96a727ca-34e6-4e82-b971-3eb6ed60d0b7",
   "metadata": {},
   "outputs": [],
   "source": [
    "quantiPipeline = Pipeline([('imputer', SimpleImputer(strategy = \"median\", add_indicator = True)), \n",
    "                           ('std_scaler', StandardScaler())]) \n",
    "\n",
    "qualiPipeline = Pipeline([\n",
    "    ('imputer', SimpleImputer(strategy=\"most_frequent\")),\n",
    "    ('onehot', OneHotEncoder(handle_unknown='ignore'))    \n",
    "])"
   ]
  },
  {
   "cell_type": "markdown",
   "id": "d39d8bf2-b581-4749-b30f-4470bdf7fa18",
   "metadata": {},
   "source": [
    "- Dataframe após todas as transformações."
   ]
  },
  {
   "cell_type": "markdown",
   "id": "00beefd6-f2f7-40fe-873b-6046d00da41a",
   "metadata": {},
   "source": [
    "quantiOk = pd.DataFrame(quantiPipeline.fit_transform(quantiDf), \n",
    "                        columns=quantiPipeline.get_feature_names_out())\n",
    "quantiOk.head()"
   ]
  },
  {
   "cell_type": "code",
   "execution_count": null,
   "id": "2a1e3b08-e846-4bc1-bcd4-125654314239",
   "metadata": {},
   "outputs": [],
   "source": [
    "preprocessor  = ColumnTransformer([(\"qt\", quantiPipeline, quantVars), \n",
    "                                  (\"ql\", qualiPipeline, qualiVars)]) \n",
    "preprocessor "
   ]
  },
  {
   "cell_type": "markdown",
   "id": "067b2bd2-7eca-4145-9c2a-3d27cb47fea0",
   "metadata": {},
   "source": [
    "## 4. Modelos de ML"
   ]
  },
  {
   "cell_type": "markdown",
   "id": "be8da346-8f7c-4fbe-ba6d-0a17e5dc3f99",
   "metadata": {},
   "source": [
    "Para analisar o desempenho dos modelos criados, existem métricas de erros: R2, MAE, RMSE, RMSLE.\n",
    "\n",
    "- **RMSLE** (Root Mean Squared Logarithmic Error): mede a raiz quadrada da média das diferenças quadradas entre o logaritmo dos valores previstos e o logaritmo dos valores reais. Geralmente é usado quando a variável de destino possui uma ampla faixa de valores.\n",
    "- **RMSE** (Root Mean Squared Error): mede a raiz quadrada da média das diferenças quadradas entre os valores previstos e os valores reais. É mais sensível a outliers do que o MAE.\n",
    "- **R2** (R-quadrado) : mede o quão bem a linha de regressão ajusta os pontos de dados. Varia de 0 a 1, com 1 indicando um ajuste perfeito e 0 indicando nenhum ajuste.\n",
    "- **MAE** (Mean Absolute Error): mede a diferença média absoluta entre os valores previstos e os valores reais. É menos sensível a outliers do que o RMSE."
   ]
  },
  {
   "cell_type": "markdown",
   "id": "f72cadd9-b318-4752-87a4-d49d42770eb1",
   "metadata": {},
   "source": [
    "### XGBoost Regression"
   ]
  },
  {
   "cell_type": "code",
   "execution_count": null,
   "id": "af617f9b-2deb-4bf8-9dee-5b46e2b1e7ff",
   "metadata": {},
   "outputs": [],
   "source": [
    "xgb_pipeline = Pipeline(steps=[\n",
    "    ('preprocessor', preprocessor),\n",
    "    ('regressor', XGBRegressor(\n",
    "        n_estimators=150,\n",
    "        max_depth=6,\n",
    "        learning_rate=0.1,\n",
    "        random_state=42,\n",
    "        objective='reg:squarederror'\n",
    "    ))\n",
    "])\n",
    "\n",
    "xgb_pipeline.fit(x_train, y_train)\n",
    "\n",
    "y_pred_xg = xgb_pipeline.predict(X_test)\n",
    "\n",
    "avaliarModelo(\"XGBoost\", y_test, y_pred_xg)"
   ]
  },
  {
   "cell_type": "markdown",
   "id": "55fc028a-238a-4520-9531-d18c0a3efffa",
   "metadata": {},
   "source": [
    "### Random Forest Regressor"
   ]
  },
  {
   "cell_type": "code",
   "execution_count": null,
   "id": "62ebf569-8e26-489c-b471-daa69fc69b87",
   "metadata": {},
   "outputs": [],
   "source": [
    "rf_model = Pipeline([\n",
    "    ('preprocessor', preprocessor),\n",
    "    ('regressor', RandomForestRegressor(n_estimators=250, random_state=42))\n",
    "])\n",
    "\n",
    "rf_model.fit(x_train, y_train)\n",
    "\n",
    "y_pred_rf = rf_model.predict(X_test)\n",
    "\n",
    "avaliarModelo(\"Random Forest\", y_test, y_pred_rf)"
   ]
  },
  {
   "cell_type": "markdown",
   "id": "2d50c92c-faad-405a-9042-1e970ee8160a",
   "metadata": {},
   "source": [
    "### Support Vector Regression - SVR"
   ]
  },
  {
   "cell_type": "code",
   "execution_count": null,
   "id": "15010ba9-aa01-4f7f-a62c-933c680df6a2",
   "metadata": {},
   "outputs": [],
   "source": [
    "svr_model = Pipeline([\n",
    "    ('preprocessor', preprocessor),\n",
    "    ('regressor', SVR(kernel='rbf', C=100, gamma='auto'))\n",
    "])\n",
    "\n",
    "svr_model.fit(x_train, y_train)\n",
    "\n",
    "y_pred_svr = svr_model.predict(x_test)\n",
    "\n",
    "avaliarModelo(\"SVR\", y_test, y_pred_svr)"
   ]
  },
  {
   "cell_type": "markdown",
   "id": "92dcd081-d40d-4a0d-8bd2-186fa63a9efa",
   "metadata": {},
   "source": [
    "### SVR GridSearchCV"
   ]
  },
  {
   "cell_type": "code",
   "execution_count": null,
   "id": "54138d72-88b5-4ded-b9b6-4defd6e53e1e",
   "metadata": {},
   "outputs": [],
   "source": [
    "pipeline_svr = Pipeline([\n",
    "    ('preprocessor', preprocessor),\n",
    "    ('regressor', SVR())\n",
    "])\n",
    "\n",
    "param_grid_svr = {\n",
    "    'regressor__kernel': ['rbf', 'linear'],\n",
    "    'regressor__C': [1, 10, 100],\n",
    "    'regressor__epsilon': [0.01, 0.1, 1],\n",
    "    'regressor__gamma': ['scale', 'auto']\n",
    "}\n",
    "\n",
    "grid_search = GridSearchCV(pipeline_svr, param_grid_svr, cv=5, scoring='r2', n_jobs=-1, verbose=2)\n",
    "\n",
    "grid_search.fit(x_train, y_train.values.ravel())\n",
    "\n",
    "print(\"Melhores parâmetros:\", grid_search.best_params_)\n",
    "print(\"Melhor R² no treino (cross-validation):\", grid_search.best_score_)\n",
    "\n",
    "y_pred_svr_grid = grid_search.predict(x_test)\n",
    "\n",
    "avaliarModelo(\"SVR com GridSearch\", y_test, y_pred_svr_grid)"
   ]
  },
  {
   "cell_type": "markdown",
   "id": "f38ab8e1-ea85-4b11-a64a-1725170864a8",
   "metadata": {},
   "source": [
    "### Rede Neural Artificial - ANN"
   ]
  },
  {
   "cell_type": "code",
   "execution_count": null,
   "id": "494c1136-8a7c-4410-a281-bfdbacf6e43e",
   "metadata": {},
   "outputs": [],
   "source": [
    "ann_modelo = Pipeline([\n",
    "    ('preprocessor', preprocessor),\n",
    "    ('regressor', MLPRegressor(max_iter=1000, random_state=42))\n",
    "])\n",
    "\n",
    "param_grid = {\n",
    "    'regressor__hidden_layer_sizes': [(50,), (100,), (50, 50), (100, 50)],\n",
    "    'regressor__activation': ['relu', 'tanh'],\n",
    "    'regressor__solver': ['adam', 'sgd'],\n",
    "    'regressor__alpha': [0.0001, 0.001, 0.01],\n",
    "    'regressor__learning_rate': ['constant', 'adaptive']\n",
    "}\n",
    "\n",
    "grid_search = GridSearchCV(ann_modelo, param_grid, cv=5, scoring='r2', n_jobs=-1, verbose=1)\n",
    "grid_search.fit(x_train, y_train)\n",
    "\n",
    "best_model = grid_search.best_estimator_\n",
    "\n",
    "print(\"🔧 Melhores parâmetros encontrados:\")\n",
    "print(grid_search.best_params_)\n",
    "print(f\"🔍 Melhor R² no treino (CV): {grid_search.best_score_:.4f}\")\n",
    "\n",
    "y_pred_test_ann_grid = best_model.predict(x_test)\n",
    "\n",
    "avaliarModelo(\"ANN com GridSearch\", y_test, y_pred_test_ann_grid)"
   ]
  },
  {
   "cell_type": "code",
   "execution_count": null,
   "id": "5944be21-aaaf-47da-9546-b8637c1ab3bb",
   "metadata": {},
   "outputs": [],
   "source": []
  }
 ],
 "metadata": {
  "kernelspec": {
   "display_name": "base",
   "language": "python",
   "name": "python3"
  },
  "language_info": {
   "codemirror_mode": {
    "name": "ipython",
    "version": 3
   },
   "file_extension": ".py",
   "mimetype": "text/x-python",
   "name": "python",
   "nbconvert_exporter": "python",
   "pygments_lexer": "ipython3",
   "version": "3.12.7"
  }
 },
 "nbformat": 4,
 "nbformat_minor": 5
}
